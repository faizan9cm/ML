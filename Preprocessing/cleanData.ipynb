{
 "cells": [
  {
   "cell_type": "code",
   "execution_count": 1,
   "id": "3a95584c-14dc-45da-9f21-27f2b10923c5",
   "metadata": {},
   "outputs": [],
   "source": [
    "import numpy as np\n",
    "import pandas as pd\n",
    "import re, sys, os, csv\n",
    "from nltk.corpus import stopwords\n",
    "from nltk.tokenize import word_tokenize\n",
    "from collections import Counter\n",
    "from sklearn.base import BaseEstimator, TransformerMixin\n",
    "from nltk.corpus import stopwords\n",
    "from nltk.corpus import wordnet\n",
    "from nltk.stem import PorterStemmer\n",
    "from nltk.stem import WordNetLemmatizer\n",
    "import nltk\n",
    "import string    "
   ]
  },
  {
   "cell_type": "code",
   "execution_count": 6,
   "id": "f78ae5fd-29af-4fe0-a766-384efdbb3221",
   "metadata": {},
   "outputs": [],
   "source": [
    "def word_prob(word): return dictionary[word] / total\n",
    "def words(text): return re.findall('[a-z]+', text.lower())\n",
    "dictionary = Counter(words(open(r'C:\\Users\\Faizan Habib\\Desktop\\Emo2\\Preprocessing\\wordlist.txt').read()))\n",
    "max_word_length = max(map(len, dictionary))\n",
    "total = float(sum(dictionary.values()))\n",
    "\n",
    "def viterbi_segment(text):\n",
    "    probs, lasts = [1.0], [0]\n",
    "    for i in range(1, len(text) + 1):\n",
    "        prob_k, k = max((probs[j] * word_prob(text[j:i]), j)\n",
    "                        for j in range(max(0, i - max_word_length), i))\n",
    "        probs.append(prob_k)\n",
    "        lasts.append(k)\n",
    "    words = []\n",
    "    i = len(text)\n",
    "    while 0 < i:\n",
    "        words.append(text[lasts[i]:i])\n",
    "        i = lasts[i]\n",
    "    words.reverse()\n",
    "    return words, probs[-1]\n",
    "\n",
    "def fix_hashtag(text):\n",
    "    text = text.group().split(\":\")[0]\n",
    "    text = text[1:] # remove '#'\n",
    "    try:\n",
    "        test = int(text[0])\n",
    "        text = text[1:]\n",
    "    except:\n",
    "        pass\n",
    "    output = ' '.join(viterbi_segment(text)[0])\n",
    "    #print(output)\n",
    "    return output\n",
    "\n",
    "\n",
    "def clean_text(text):\n",
    "    text = text.lower()\n",
    "    text = re.sub(r\"(#[A-Za-z0-9]+)\", fix_hashtag, text)\n",
    "    return ' '.join(re.sub(r\"(@[A-Za-z0-9]+)|([^0-9A-Za-z \\t])|(\\w+:\\/\\/\\S+)\", \" \", text).split())\n",
    "\n",
    "def de_repeat(text):\n",
    "    pattern = re.compile(r\"(.)\\1{2,}\")\n",
    "    return pattern.sub(r\"\\1\\1\", text)\n",
    "\n",
    "def whitespaces(text):\n",
    "    text = text.strip()\n",
    "    return text\n",
    "\n",
    "def remove_digits(text):\n",
    "    return re.sub(r'\\d+', '', text)\n",
    "\n",
    "def remove_stopwords(text):\n",
    "    stopwords_list = stopwords.words('english')\n",
    "    # Some words which might indicate a certain sentiment are kept via a whitelist\n",
    "    whitelist = [\"n't\", \"not\", \"no\"]\n",
    "    words = text.split()\n",
    "    clean_words = [word for word in words if (word not in stopwords_list or word in whitelist) and len(word) > 1]\n",
    "    return \" \".join(clean_words)\n",
    "\n",
    "def stem_lemma(text):\n",
    "    def get_wordnet_pos(word):\n",
    "        tag = nltk.pos_tag([word])[0][1][0].upper()\n",
    "        tag_dict = {\"J\": wordnet.ADJ, \"N\": wordnet.NOUN, \"V\": wordnet.VERB, \"R\": wordnet.ADV}\n",
    "        return tag_dict.get(tag, wordnet.NOUN)     \n",
    "        \n",
    "    ps = PorterStemmer()\n",
    "    words = text.split()\n",
    "    stemmed_words = [ps.stem(word) for word in words]\n",
    "    lemmatizer = WordNetLemmatizer()\n",
    "    lemma_words = [lemmatizer.lemmatize(word, get_wordnet_pos(word)) for word in stemmed_words]\n",
    "    return \" \".join(lemma_words)\n",
    "\n",
    "def vectorise_label(label):\n",
    "    if label == \"empty\":return 1 # neutral\n",
    "    elif label == \"sadness\":return 2 # sad\n",
    "    elif label == \"enthusiasm\":return 3 # happy\n",
    "    elif label == \"neutral\":return 0 # neutral\n",
    "    elif label == \"worry\":return 4 # sad\n",
    "    elif label == \"surprise\":return 5 # happy\n",
    "    elif label == \"love\":return 6 # love\n",
    "    elif label == \"fun\":return 7 # happy\n",
    "    elif label == \"hate\":return 8 # anger\n",
    "    elif label == \"happiness\":return 9 # happy\n",
    "    elif label == \"boredom\":return 10 # neutral\n",
    "    elif label == \"relief\":return 11 # happy\n",
    "    elif label == \"anger\":return 12 #anger"
   ]
  },
  {
   "cell_type": "code",
   "execution_count": 3,
   "id": "77af9440-ef48-4ae9-950d-e6e6f47ac289",
   "metadata": {},
   "outputs": [
    {
     "name": "stdout",
     "output_type": "stream",
     "text": [
      "Dataset shape: (40000, 4)\n",
      "empty : @tiffanylue i know  i was listenin to bad habit earlier and i started freakin at his part =[\n"
     ]
    }
   ],
   "source": [
    "data_train = pd.read_csv(r'C:\\Users\\Faizan Habib\\Desktop\\Emo2\\Preprocessing\\datasets\\text_emotion.csv', sep=',')\n",
    "print(\"Dataset shape:\",data_train.shape)\n",
    "print(data_train.sentiment[0],\":\",data_train.content[0])"
   ]
  },
  {
   "cell_type": "code",
   "execution_count": 7,
   "id": "dd6edf6a-3b97-415c-84d0-07a85f273a23",
   "metadata": {},
   "outputs": [
    {
     "name": "stdout",
     "output_type": "stream",
     "text": [
      "Progress:  100 0    \n",
      "Complete!\n"
     ]
    }
   ],
   "source": [
    "dataWriter = csv.writer(open(r'C:\\Users\\Faizan Habib\\Desktop\\Emo2\\Preprocessing\\datasets\\cleaned_data.csv', 'w'), delimiter=',',lineterminator=\"\\n\")\n",
    "\n",
    "total = 40000\n",
    "for i in range(40000):\n",
    "    print(\"Progress: \",round(i/total*100,2),\"   \",end=\"\\r\")\n",
    "    text = clean_text(data_train.content[i])\n",
    "    text = de_repeat(text)\n",
    "    text = whitespaces(text)\n",
    "    text = remove_digits(text)\n",
    "    text = remove_stopwords(text)\n",
    "    text = stem_lemma(text)\n",
    "    dataWriter.writerow([text, str(vectorise_label(data_train.sentiment[i]))])\n",
    "    \n",
    "print(\"Progress: \",100,\"\\nComplete!\")"
   ]
  }
 ],
 "metadata": {
  "kernelspec": {
   "display_name": "Python 3 (ipykernel)",
   "language": "python",
   "name": "python3"
  },
  "language_info": {
   "codemirror_mode": {
    "name": "ipython",
    "version": 3
   },
   "file_extension": ".py",
   "mimetype": "text/x-python",
   "name": "python",
   "nbconvert_exporter": "python",
   "pygments_lexer": "ipython3",
   "version": "3.12.2"
  }
 },
 "nbformat": 4,
 "nbformat_minor": 5
}
