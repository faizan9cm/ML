{
 "cells": [
  {
   "cell_type": "code",
   "execution_count": 1,
   "id": "df6fb503-2da7-4644-929c-f594a8976255",
   "metadata": {},
   "outputs": [],
   "source": [
    "import csv"
   ]
  },
  {
   "cell_type": "code",
   "execution_count": 2,
   "id": "fea8974f-3f9b-4a8f-8e68-c8b2a6d8d957",
   "metadata": {},
   "outputs": [],
   "source": [
    "def read_csv(file, lst, cats):\n",
    "    with open(file, newline='') as f:\n",
    "        reader = csv.reader(f)\n",
    "        for i,row in enumerate(reader):\n",
    "            cat = row[1]\n",
    "            lst.append(row[0])\n",
    "            cats.append(int(row[1]))"
   ]
  },
  {
   "cell_type": "code",
   "execution_count": 4,
   "id": "e5971df5-85a1-47f8-bcfa-15f9e04811eb",
   "metadata": {},
   "outputs": [],
   "source": [
    "data = []\n",
    "cats = []\n",
    "read_csv(r\"C:\\Users\\Faizan Habib\\Desktop\\Emo2\\Preprocessing\\datasets\\cleaned_data.csv\", data, cats)"
   ]
  },
  {
   "cell_type": "code",
   "execution_count": 5,
   "id": "cfc747f7-7bd6-4e03-bfd6-a063ce64e47d",
   "metadata": {},
   "outputs": [],
   "source": [
    "dataWriter = csv.writer(open(r'C:\\Users\\Faizan Habib\\Desktop\\Emo2\\Preprocessing\\datasets\\merged_data.csv', 'w'), delimiter=',',lineterminator=\"\\n\")\n",
    "for n,point in enumerate(data):\n",
    "    category = cats[n]\n",
    "    is_happy = category == 3 or category == 5 or category == 7 or category == 9 or category == 11 \n",
    "    is_neutral = category == 0 or category == 1 or  category == 10\n",
    "    is_sad = category == 2 or category == 4\n",
    "    is_anger = category == 8 or category == 12\n",
    "    if is_happy:\n",
    "        dataWriter.writerow([point, 1])\n",
    "    elif is_neutral:\n",
    "        dataWriter.writerow([point, 0])\n",
    "    elif is_sad:\n",
    "        dataWriter.writerow([point, 2])\n",
    "    elif is_anger:\n",
    "        dataWriter.writerow([point, 4])\n",
    "    elif category == 6:\n",
    "        dataWriter.writerow([point, 3])\n",
    "    else:\n",
    "        print(point,n)"
   ]
  },
  {
   "cell_type": "code",
   "execution_count": 6,
   "id": "4198b136-c81f-4dbb-8ed4-ce841347e8c2",
   "metadata": {},
   "outputs": [],
   "source": [
    "count = 0\n",
    "with open(r'C:\\Users\\Faizan Habib\\Desktop\\Emo2\\Preprocessing\\datasets\\merged_data.csv') as csvfile:\n",
    "    readCSV = csv.reader(csvfile, delimiter=',')\n",
    "    for row in readCSV:\n",
    "        count+=1"
   ]
  },
  {
   "cell_type": "code",
   "execution_count": 7,
   "id": "6ee6a26d-0f2c-4199-ba88-440dff04eac3",
   "metadata": {},
   "outputs": [
    {
     "data": {
      "text/plain": [
       "39342"
      ]
     },
     "execution_count": 7,
     "metadata": {},
     "output_type": "execute_result"
    }
   ],
   "source": [
    "count"
   ]
  }
 ],
 "metadata": {
  "kernelspec": {
   "display_name": "Python 3 (ipykernel)",
   "language": "python",
   "name": "python3"
  },
  "language_info": {
   "codemirror_mode": {
    "name": "ipython",
    "version": 3
   },
   "file_extension": ".py",
   "mimetype": "text/x-python",
   "name": "python",
   "nbconvert_exporter": "python",
   "pygments_lexer": "ipython3",
   "version": "3.12.2"
  }
 },
 "nbformat": 4,
 "nbformat_minor": 5
}
