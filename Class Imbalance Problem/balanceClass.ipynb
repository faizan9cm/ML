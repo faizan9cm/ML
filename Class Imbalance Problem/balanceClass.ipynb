{
 "cells": [
  {
   "cell_type": "markdown",
   "id": "baadfaea-cd40-42f8-94e4-36c13270bcc4",
   "metadata": {},
   "source": [
    "# Handle Class Imbalance"
   ]
  },
  {
   "cell_type": "markdown",
   "id": "28ce5dbc-26bb-40e7-8a6b-e3c2c1db5d0c",
   "metadata": {},
   "source": [
    "### Import Necessary Packages"
   ]
  },
  {
   "cell_type": "code",
   "execution_count": 13,
   "id": "38178414-c722-421a-86e7-bf32420d7dbb",
   "metadata": {},
   "outputs": [],
   "source": [
    "import numpy as np\n",
    "import pandas as pd\n",
    "import matplotlib.pyplot as plt\n",
    "import seaborn as sns"
   ]
  },
  {
   "cell_type": "markdown",
   "id": "061d7610-1839-48f9-9e71-7c30778874e7",
   "metadata": {},
   "source": [
    "### Read Preprocessed Dataset"
   ]
  },
  {
   "cell_type": "code",
   "execution_count": 4,
   "id": "68e91991-c9df-4e3c-8e3e-80faa88c953c",
   "metadata": {},
   "outputs": [],
   "source": [
    "df = pd.read_csv(r'C:\\Users\\Faizan Habib\\Desktop\\Emo1\\prep_data.csv')"
   ]
  },
  {
   "cell_type": "code",
   "execution_count": 6,
   "id": "b2febec3-bdfb-40b3-b7c8-ac448eb9d336",
   "metadata": {},
   "outputs": [
    {
     "data": {
      "text/html": [
       "<div>\n",
       "<style scoped>\n",
       "    .dataframe tbody tr th:only-of-type {\n",
       "        vertical-align: middle;\n",
       "    }\n",
       "\n",
       "    .dataframe tbody tr th {\n",
       "        vertical-align: top;\n",
       "    }\n",
       "\n",
       "    .dataframe thead th {\n",
       "        text-align: right;\n",
       "    }\n",
       "</style>\n",
       "<table border=\"1\" class=\"dataframe\">\n",
       "  <thead>\n",
       "    <tr style=\"text-align: right;\">\n",
       "      <th></th>\n",
       "      <th>emotion_label</th>\n",
       "      <th>clean_content</th>\n",
       "      <th>clean_withSW_SL</th>\n",
       "      <th>clean_noSW_SL</th>\n",
       "      <th>clean_noSW_noSL</th>\n",
       "    </tr>\n",
       "  </thead>\n",
       "  <tbody>\n",
       "    <tr>\n",
       "      <th>0</th>\n",
       "      <td>0</td>\n",
       "      <td>i know i was listenin to bad habit earlier and...</td>\n",
       "      <td>i know i was listenin to bad habit earlier and...</td>\n",
       "      <td>know listenin bad habit earlier started freaki...</td>\n",
       "      <td>know listenin bad habit earlier start freakin ...</td>\n",
       "    </tr>\n",
       "    <tr>\n",
       "      <th>1</th>\n",
       "      <td>2</td>\n",
       "      <td>layin n bed with a headache ughhhh waitin on y...</td>\n",
       "      <td>layin n bed with a headache ughh waitin on you...</td>\n",
       "      <td>layin bed headache ughh waitin call</td>\n",
       "      <td>layin bed headach ughh waitin call</td>\n",
       "    </tr>\n",
       "    <tr>\n",
       "      <th>2</th>\n",
       "      <td>2</td>\n",
       "      <td>funeral ceremony gloomy friday</td>\n",
       "      <td>funeral ceremony gloomy friday</td>\n",
       "      <td>funeral ceremony gloomy friday</td>\n",
       "      <td>funer ceremoni gloomi friday</td>\n",
       "    </tr>\n",
       "    <tr>\n",
       "      <th>3</th>\n",
       "      <td>1</td>\n",
       "      <td>wants to hang out with friends soon</td>\n",
       "      <td>wants to hang out with friends soon</td>\n",
       "      <td>wants hang friends soon</td>\n",
       "      <td>want hang friend soon</td>\n",
       "    </tr>\n",
       "    <tr>\n",
       "      <th>4</th>\n",
       "      <td>0</td>\n",
       "      <td>we want to trade with someone who has houston ...</td>\n",
       "      <td>we want to trade with someone who has houston ...</td>\n",
       "      <td>want trade someone houston tickets no one</td>\n",
       "      <td>want trade someon houston ticket no one</td>\n",
       "    </tr>\n",
       "    <tr>\n",
       "      <th>5</th>\n",
       "      <td>2</td>\n",
       "      <td>re pinging why didn t you go to prom bc my bf ...</td>\n",
       "      <td>re pinging why didn t you go to prom bc my bf ...</td>\n",
       "      <td>pinging go prom bc bf like friends</td>\n",
       "      <td>ping go prom bc bf like friend</td>\n",
       "    </tr>\n",
       "    <tr>\n",
       "      <th>6</th>\n",
       "      <td>2</td>\n",
       "      <td>i should be sleep but im not thinking about an...</td>\n",
       "      <td>i should be sleep but im not thinking about an...</td>\n",
       "      <td>sleep im not thinking old friend want married ...</td>\n",
       "      <td>sleep im not think old friend want marri damn ...</td>\n",
       "    </tr>\n",
       "    <tr>\n",
       "      <th>7</th>\n",
       "      <td>2</td>\n",
       "      <td>hmmm is down</td>\n",
       "      <td>hmm is down</td>\n",
       "      <td>hmm</td>\n",
       "      <td>hmm</td>\n",
       "    </tr>\n",
       "    <tr>\n",
       "      <th>8</th>\n",
       "      <td>2</td>\n",
       "      <td>charlene my love i miss you</td>\n",
       "      <td>charlene my love i miss you</td>\n",
       "      <td>charlene love miss</td>\n",
       "      <td>charlen love miss</td>\n",
       "    </tr>\n",
       "    <tr>\n",
       "      <th>9</th>\n",
       "      <td>2</td>\n",
       "      <td>i m sorry at least it s friday</td>\n",
       "      <td>i m sorry at least it s friday</td>\n",
       "      <td>sorry least friday</td>\n",
       "      <td>sorri least friday</td>\n",
       "    </tr>\n",
       "  </tbody>\n",
       "</table>\n",
       "</div>"
      ],
      "text/plain": [
       "   emotion_label                                      clean_content  \\\n",
       "0              0  i know i was listenin to bad habit earlier and...   \n",
       "1              2  layin n bed with a headache ughhhh waitin on y...   \n",
       "2              2                     funeral ceremony gloomy friday   \n",
       "3              1                wants to hang out with friends soon   \n",
       "4              0  we want to trade with someone who has houston ...   \n",
       "5              2  re pinging why didn t you go to prom bc my bf ...   \n",
       "6              2  i should be sleep but im not thinking about an...   \n",
       "7              2                                       hmmm is down   \n",
       "8              2                        charlene my love i miss you   \n",
       "9              2                     i m sorry at least it s friday   \n",
       "\n",
       "                                     clean_withSW_SL  \\\n",
       "0  i know i was listenin to bad habit earlier and...   \n",
       "1  layin n bed with a headache ughh waitin on you...   \n",
       "2                     funeral ceremony gloomy friday   \n",
       "3                wants to hang out with friends soon   \n",
       "4  we want to trade with someone who has houston ...   \n",
       "5  re pinging why didn t you go to prom bc my bf ...   \n",
       "6  i should be sleep but im not thinking about an...   \n",
       "7                                        hmm is down   \n",
       "8                        charlene my love i miss you   \n",
       "9                     i m sorry at least it s friday   \n",
       "\n",
       "                                       clean_noSW_SL  \\\n",
       "0  know listenin bad habit earlier started freaki...   \n",
       "1                layin bed headache ughh waitin call   \n",
       "2                     funeral ceremony gloomy friday   \n",
       "3                            wants hang friends soon   \n",
       "4          want trade someone houston tickets no one   \n",
       "5                 pinging go prom bc bf like friends   \n",
       "6  sleep im not thinking old friend want married ...   \n",
       "7                                                hmm   \n",
       "8                                 charlene love miss   \n",
       "9                                 sorry least friday   \n",
       "\n",
       "                                     clean_noSW_noSL  \n",
       "0  know listenin bad habit earlier start freakin ...  \n",
       "1                 layin bed headach ughh waitin call  \n",
       "2                       funer ceremoni gloomi friday  \n",
       "3                              want hang friend soon  \n",
       "4            want trade someon houston ticket no one  \n",
       "5                     ping go prom bc bf like friend  \n",
       "6  sleep im not think old friend want marri damn ...  \n",
       "7                                                hmm  \n",
       "8                                  charlen love miss  \n",
       "9                                 sorri least friday  "
      ]
     },
     "execution_count": 6,
     "metadata": {},
     "output_type": "execute_result"
    }
   ],
   "source": [
    "df.head(10)"
   ]
  },
  {
   "cell_type": "markdown",
   "id": "400d657d-889a-4045-bc20-bb542004d5c5",
   "metadata": {},
   "source": [
    "### Draw the Pie Chart"
   ]
  },
  {
   "cell_type": "code",
   "execution_count": 19,
   "id": "069a3150-5109-49ea-8e0f-93eb1ae0fa17",
   "metadata": {},
   "outputs": [],
   "source": [
    "# Number of unique emotions\n",
    "labels = df.emotion_label.unique()"
   ]
  },
  {
   "cell_type": "code",
   "execution_count": 55,
   "id": "1caef408-8423-4de5-8993-5c7a827eb418",
   "metadata": {},
   "outputs": [],
   "source": [
    "# Count of each type\n",
    "values = df.emotion_label.value_counts()"
   ]
  },
  {
   "cell_type": "code",
   "execution_count": 63,
   "id": "08c91fe6-5c4b-4ed3-ad41-ba749226f58f",
   "metadata": {},
   "outputs": [],
   "source": [
    "# Count of each type\n",
    "class_counts = df['emotion_label'].value_counts()"
   ]
  },
  {
   "cell_type": "code",
   "execution_count": 59,
   "id": "4ea9c055-a59b-4122-b294-ee78bad380e5",
   "metadata": {},
   "outputs": [],
   "source": [
    "# Percentage of each type\n",
    "class_percentages = (class_counts / class_counts.sum()) * 100"
   ]
  },
  {
   "cell_type": "code",
   "execution_count": 26,
   "id": "13556fe6-f601-4f40-b782-a67e39a3e590",
   "metadata": {},
   "outputs": [
    {
     "data": {
      "image/png": "[encoded data removed]",
      "text/plain": [
       "<Figure size 400x400 with 1 Axes>"
      ]
     },
     "metadata": {},
     "output_type": "display_data"
    }
   ],
   "source": [
    "# Pie Chart based on size of each type\n",
    "plt.figure(figsize=(4,4))\n",
    "plt.pie(values, labels=labels, autopct='%1.1f%%', startangle=140)\n",
    "plt.axis('equal')\n",
    "plt.show()"
   ]
  },
  {
   "cell_type": "code",
   "execution_count": 64,
   "id": "7dab1d77-23f4-4c9f-8cbe-6ede2cf3ad39",
   "metadata": {},
   "outputs": [
    {
     "data": {
      "image/png": "[encoded data removed]",
      "text/plain": [
       "<Figure size 400x400 with 1 Axes>"
      ]
     },
     "metadata": {},
     "output_type": "display_data"
    }
   ],
   "source": [
    "# Pie Chart based on count of each type\n",
    "plt.figure(figsize=(4,4))\n",
    "# plt.pie(class_counts, labels=class_percentages, autopct='%1.1f%%', startangle=140)\n",
    "plt.pie(class_counts, labels=class_counts.index, autopct='%1.1f%%', startangle=140)\n",
    "plt.axis('equal')\n",
    "plt.show()"
   ]
  },
  {
   "cell_type": "markdown",
   "id": "36979877-2b83-413f-aa0b-b7b4577e0941",
   "metadata": {},
   "source": [
    "### Downsampling Majority Classes"
   ]
  },
  {
   "cell_type": "code",
   "execution_count": 39,
   "id": "880fadc3-ee8f-455a-8b99-26a2297f4626",
   "metadata": {},
   "outputs": [
    {
     "name": "stdout",
     "output_type": "stream",
     "text": [
      "emotion_label\n",
      "0    1431\n",
      "1    1431\n",
      "2    1431\n",
      "3    1431\n",
      "4    1431\n",
      "Name: count, dtype: int64\n"
     ]
    }
   ],
   "source": [
    "import pandas as pd\n",
    "from sklearn.utils import resampl\n",
    "\n",
    "# Determine the size of the minority class (class 4)\n",
    "minority_class_size = df[df['emotion_label'] == 4].shape[0]\n",
    "\n",
    "# Separate majority and minority classes\n",
    "majority_classes = df[df['emotion_label'] != 4]\n",
    "minority_class = df[df['emotion_label'] == 4]\n",
    "\n",
    "# Downsample majority classes to match the size of the minority class\n",
    "majority_downsampled = pd.concat([\n",
    "    resample(majority_classes[majority_classes['emotion_label'] == label],\n",
    "             replace=False,\n",
    "             n_samples=minority_class_size,\n",
    "             random_state=42)\n",
    "    for label in range(4)\n",
    "])\n",
    "\n",
    "# Combine minority class with downsampled majority classes\n",
    "df_downsampled = pd.concat([majority_downsampled, minority_class])\n",
    "\n",
    "# Reset the index\n",
    "df_downsampled.reset_index(drop=True, inplace=True)\n",
    "\n",
    "# Display class distribution after under-sampling\n",
    "print(df_downsampled['emotion_label'].value_counts())\n"
   ]
  },
  {
   "cell_type": "code",
   "execution_count": 43,
   "id": "7ed51281-4365-4899-8ade-c2e9a737a2a6",
   "metadata": {},
   "outputs": [],
   "source": [
    "df_downsampled.reset_index(drop=True, inplace=True)"
   ]
  },
  {
   "cell_type": "code",
   "execution_count": 45,
   "id": "b0dcad3e-d904-4c80-b24f-db7d7f9dd5e1",
   "metadata": {},
   "outputs": [],
   "source": [
    "# Save the Downsampled DataFrame as a new dataset\n",
    "df_downsampled.to_csv(r'C:\\Users\\Faizan Habib\\Desktop\\Emo1\\downsampled_dataset.csv', index=False)"
   ]
  },
  {
   "cell_type": "markdown",
   "id": "9217413d-0c10-4ff7-8777-7c6d5a09e5e6",
   "metadata": {},
   "source": [
    "### Oversampling Minority Classes"
   ]
  },
  {
   "cell_type": "code",
   "execution_count": 67,
   "id": "c4caabbc-9f87-4623-b8b7-2e954332b9a2",
   "metadata": {},
   "outputs": [
    {
     "name": "stdout",
     "output_type": "stream",
     "text": [
      "emotion_label\n",
      "2    13596\n",
      "0    13596\n",
      "1    13596\n",
      "3    13596\n",
      "4    13596\n",
      "Name: count, dtype: int64\n"
     ]
    }
   ],
   "source": [
    "import pandas as pd\n",
    "from sklearn.utils import resample\n",
    "\n",
    "# Determine the size of the majority class\n",
    "majority_class_size = df['emotion_label'].value_counts().max()\n",
    "\n",
    "# Separate majority and minority classes\n",
    "majority_class = df[df['emotion_label'] == 2] \n",
    "minority_classes = df[df['emotion_label'] != 2]\n",
    "\n",
    "# Oversample minority classes to match the size of the majority class\n",
    "minority_oversampled = pd.concat([\n",
    "    resample(minority_classes[minority_classes['emotion_label'] == label],\n",
    "             replace=True,\n",
    "             n_samples=majority_class_size,\n",
    "             random_state=42)\n",
    "    for label in minority_classes['emotion_label'].unique()\n",
    "])\n",
    "\n",
    "# Combine majority class with oversampled minority classes\n",
    "df_oversampled = pd.concat([majority_class, minority_oversampled])\n",
    "\n",
    "# Reset the index\n",
    "df_oversampled.reset_index(drop=True, inplace=True)\n",
    "\n",
    "# Display class distribution after over-sampling\n",
    "print(df_oversampled['emotion_label'].value_counts())"
   ]
  },
  {
   "cell_type": "code",
   "execution_count": 69,
   "id": "90901282-7ed2-4d0f-a0de-06287683c517",
   "metadata": {},
   "outputs": [],
   "source": [
    "# Save the Oversampled DataFrame as a new dataset\n",
    "df_oversampled.to_csv('oversampled_dataset.csv', index=False)"
   ]
  }
 ],
 "metadata": {
  "kernelspec": {
   "display_name": "Python 3 (ipykernel)",
   "language": "python",
   "name": "python3"
  },
  "language_info": {
   "codemirror_mode": {
    "name": "ipython",
    "version": 3
   },
   "file_extension": ".py",
   "mimetype": "text/x-python",
   "name": "python",
   "nbconvert_exporter": "python",
   "pygments_lexer": "ipython3",
   "version": "3.12.2"
  }
 },
 "nbformat": 4,
 "nbformat_minor": 5
}
